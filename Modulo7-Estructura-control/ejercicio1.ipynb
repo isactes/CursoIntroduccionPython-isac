{
 "cells": [
  {
   "cell_type": "code",
   "execution_count": 1,
   "metadata": {},
   "outputs": [],
   "source": [
    "#Uso de ciclos while en Python\n",
    "#Ejercicio 1 \n",
    "\n",
    "new_planet = ''\n",
    "planets = []\n",
    "\n",
    "while new_planet.lower() != 'donde':\n",
    "    if new_planet:\n",
    "        planets.append(new_planet)\n",
    "    new_planet = input('Ingresa un nuevo valor o escribe done:')"
   ]
  },
  {
   "cell_type": "code",
   "execution_count": 4,
   "metadata": {},
   "outputs": [
    {
     "name": "stdout",
     "output_type": "stream",
     "text": [
      "MArdd\n",
      "Maoaoa\n",
      "skskksl\n"
     ]
    }
   ],
   "source": [
    "#Ejercicio 2: Creación de un ciclo \"for\"\n",
    "new_planet = ''\n",
    "planets = []\n",
    "\n",
    "while new_planet.lower() != 'done':\n",
    "    if new_planet:\n",
    "        planets.append(new_planet)\n",
    "    new_planet = input('Ingresa un palneta')\n",
    "for planet in planets:\n",
    "     print(planet)\n",
    "    # sleep(1)\n",
    "#print(planet)"
   ]
  }
 ],
 "metadata": {
  "interpreter": {
   "hash": "369f2c481f4da34e4445cda3fffd2e751bd1c4d706f27375911949ba6bb62e1c"
  },
  "kernelspec": {
   "display_name": "Python 3.10.4 64-bit",
   "language": "python",
   "name": "python3"
  },
  "language_info": {
   "codemirror_mode": {
    "name": "ipython",
    "version": 3
   },
   "file_extension": ".py",
   "mimetype": "text/x-python",
   "name": "python",
   "nbconvert_exporter": "python",
   "pygments_lexer": "ipython3",
   "version": "3.10.4"
  },
  "orig_nbformat": 4
 },
 "nbformat": 4,
 "nbformat_minor": 2
}
