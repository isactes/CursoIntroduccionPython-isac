{
 "cells": [
  {
   "cell_type": "code",
   "execution_count": 4,
   "metadata": {},
   "outputs": [
    {
     "name": "stdout",
     "output_type": "stream",
     "text": [
      "4\n",
      "3\n",
      "2\n",
      "1\n",
      "0\n",
      "Blast off!!\n"
     ]
    }
   ],
   "source": [
    "#Acerca de los ciclos for\n",
    "\n",
    "# De la biblioteca time, importamos (traemos) la clase sleep\n",
    "\n",
    "from time import sleep\n",
    "\n",
    "#Creamos una lista de 5 numeros llamadas countdown\n",
    "countdown = [4, 3, 2, 1, 0]\n",
    "\n",
    "#Para cada numero de countdown\n",
    "for number in countdown:\n",
    "    #Muestre el numero \n",
    "    print(number)\n",
    "    #Espera(1segundo)\n",
    "    sleep(1)\n",
    "#Muestra el mensaje Blasft off\n",
    "print(\"Blast off!!\")\n"
   ]
  },
  {
   "cell_type": "code",
   "execution_count": null,
   "metadata": {},
   "outputs": [],
   "source": [
    "#Acerca de los ciclos for\n",
    "\n",
    "countdown = [4, 3, 2, 1, 0]\n",
    "\n",
    "for number in countdown:\n",
    "    print(number)\n",
    "print(\"Blass off!! \")"
   ]
  },
  {
   "cell_type": "code",
   "execution_count": 3,
   "metadata": {},
   "outputs": [
    {
     "name": "stdout",
     "output_type": "stream",
     "text": [
      "The first planet is  Mercury\n",
      "The second planet is  Venus\n",
      "The third planet is  Earth\n"
     ]
    }
   ],
   "source": [
    "#Uso de ciclos for con listas\n",
    "planets = [\"Mercury\", \"Venus\", \"Earth\", \"Mars\", \"Jupiter\", \"Saturn\", \"Uranus\", \"Neptune\"]\n",
    "\n",
    "print(\"The first planet is \", planets[0])\n",
    "print(\"The second planet is \", planets[1])\n",
    "print(\"The third planet is \", planets[2])"
   ]
  },
  {
   "cell_type": "code",
   "execution_count": 2,
   "metadata": {},
   "outputs": [],
   "source": [
    "#Acerca de los ciclos while\n",
    "#while condition:\n",
    "    #lo que quieres ques se ejecute\n",
    "#Creamos la variable que almacena el texto\n",
    "user_input = ''\n",
    "#creamos lista que almacena cada uno de los textos que el usuario ingresa\n",
    "inputs = []\n",
    "#ciclo while\n",
    "while user_input.lower() != 'done':\n",
    "    #verificamos si hay un valor de user_input\n",
    "    if user_input:\n",
    "        #Almacenamos ese valor en la lista\n",
    "        inputs.append(user_input)\n",
    "    #capturamos un nuevo valor \n",
    "    user_input = input('Enter a new value or done when done')\n"
   ]
  }
 ],
 "metadata": {
  "interpreter": {
   "hash": "369f2c481f4da34e4445cda3fffd2e751bd1c4d706f27375911949ba6bb62e1c"
  },
  "kernelspec": {
   "display_name": "Python 3.10.4 64-bit",
   "language": "python",
   "name": "python3"
  },
  "language_info": {
   "codemirror_mode": {
    "name": "ipython",
    "version": 3
   },
   "file_extension": ".py",
   "mimetype": "text/x-python",
   "name": "python",
   "nbconvert_exporter": "python",
   "pygments_lexer": "ipython3",
   "version": "3.10.4"
  },
  "orig_nbformat": 4
 },
 "nbformat": 4,
 "nbformat_minor": 2
}
