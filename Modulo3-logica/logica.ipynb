{
 "cells": [
  {
   "cell_type": "code",
   "execution_count": 1,
   "metadata": {},
   "outputs": [
    {
     "name": "stdout",
     "output_type": "stream",
     "text": [
      "no se\n"
     ]
    }
   ],
   "source": [
    "#practica\n",
    "\n",
    "a = 97\n",
    "b = 55\n",
    "#test de exprescion\n",
    "if (a < b):\n",
    "    print(b)\n",
    "elif(a != b):\n",
    "    print(\"no se\")"
   ]
  },
  {
   "cell_type": "code",
   "execution_count": 2,
   "metadata": {},
   "outputs": [
    {
     "name": "stdout",
     "output_type": "stream",
     "text": [
      "89\n"
     ]
    }
   ],
   "source": [
    "#pratica 2\n",
    "a = 89\n",
    "b = 27\n",
    "if (a >= b):\n",
    "    print(a)\n",
    "elif(a <= b):\n",
    "    print(\"isac\")"
   ]
  },
  {
   "cell_type": "code",
   "execution_count": 3,
   "metadata": {},
   "outputs": [
    {
     "name": "stdout",
     "output_type": "stream",
     "text": [
      "98\n"
     ]
    }
   ],
   "source": [
    "#practica \n",
    "a = 98\n",
    "b = 76\n",
    "if (a >= b):\n",
    "    print(a)\n",
    "else:\n",
    "    print(b)"
   ]
  },
  {
   "cell_type": "code",
   "execution_count": 13,
   "metadata": {},
   "outputs": [
    {
     "name": "stdout",
     "output_type": "stream",
     "text": [
      "a es mayor o igual que b\n"
     ]
    }
   ],
   "source": [
    "#elif\n",
    "a = 2323\n",
    "b = 22\n",
    "if(a >= b):\n",
    "    print(\"a es mayor o igual que b\")\n",
    "elif(a == b):\n",
    "    print(\"a es igual que b\")\n",
    "elif(a <= b):\n",
    "    print(\"a es menor o igual que b\")\n",
    "else:\n",
    "    print(\"REvisa los numeros\")\n"
   ]
  },
  {
   "cell_type": "code",
   "execution_count": 16,
   "metadata": {},
   "outputs": [
    {
     "name": "stdout",
     "output_type": "stream",
     "text": [
      "a es mayor que b\n"
     ]
    }
   ],
   "source": [
    "#elif\n",
    "a = 98\n",
    "b = 76\n",
    "if(a > b):\n",
    "    print(\"a es mayor que b\")\n",
    "elif(a < b):\n",
    "    print(\"a es menor que b\")\n",
    "else:\n",
    "    print(\"a es igual que b\")"
   ]
  },
  {
   "cell_type": "code",
   "execution_count": 19,
   "metadata": {},
   "outputs": [
    {
     "name": "stdout",
     "output_type": "stream",
     "text": [
      "a es mayor que b y menor que c\n"
     ]
    }
   ],
   "source": [
    "#Trabajar con lógica condicional anidada\n",
    "a = 98\n",
    "b = 25\n",
    "c = 27\n",
    "if(a > b):\n",
    "    if( b > c):\n",
    "        print(\" a es mayor que b  y b es mayor que c\")\n",
    "    else:\n",
    "        print(\"a es mayor que b y menor que c\")\n",
    "elif(a == b):\n",
    "    print(\"a es igual que b\")\n",
    "else:\n",
    "    print(\"a es menor que b\")"
   ]
  },
  {
   "cell_type": "code",
   "execution_count": 20,
   "metadata": {},
   "outputs": [
    {
     "name": "stdout",
     "output_type": "stream",
     "text": [
      "43\n"
     ]
    }
   ],
   "source": [
    "#and y or\n",
    "a = 9\n",
    "b = 34\n",
    "if(a == 34 or b == 34):\n",
    "    print(a + b)"
   ]
  },
  {
   "cell_type": "code",
   "execution_count": null,
   "metadata": {},
   "outputs": [],
   "source": [
    "#and\n",
    "a = 23\n",
    "b = 34\n",
    "if(a == 34 and b == 34):\n",
    "    print(a + b)\n"
   ]
  }
 ],
 "metadata": {
  "interpreter": {
   "hash": "369f2c481f4da34e4445cda3fffd2e751bd1c4d706f27375911949ba6bb62e1c"
  },
  "kernelspec": {
   "display_name": "Python 3.10.4 64-bit",
   "language": "python",
   "name": "python3"
  },
  "language_info": {
   "codemirror_mode": {
    "name": "ipython",
    "version": 3
   },
   "file_extension": ".py",
   "mimetype": "text/x-python",
   "name": "python",
   "nbconvert_exporter": "python",
   "pygments_lexer": "ipython3",
   "version": "3.10.4"
  },
  "orig_nbformat": 4
 },
 "nbformat": 4,
 "nbformat_minor": 2
}
