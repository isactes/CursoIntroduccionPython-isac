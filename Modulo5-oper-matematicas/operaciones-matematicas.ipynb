{
 "cells": [
  {
   "cell_type": "code",
   "execution_count": 36,
   "metadata": {},
   "outputs": [
    {
     "name": "stdout",
     "output_type": "stream",
     "text": [
      "{'numero decimal sube a 13 y  numero decimal baja a 12'}\n"
     ]
    }
   ],
   "source": [
    "#Biblioteca Math  .math  te permite realizar el redondeo con floor y ceil, tambien el valor de pi \n",
    "#El redondeo de números permite quitar la parte decimal de un flotador. Puedes elegir redondear siempre hacia arriba al número entero más cercano usando ceil, o hacia abajo usando floor.\n",
    "\n",
    "from math import ceil, floor\n",
    "up = ceil(12.5)\n",
    "down = floor(12.5)\n",
    "print({\"numero decimal sube\" + \" a \" + str(up) + \" y \" + \" numero decimal baja a \" +  str(down)})\n",
    "\n",
    "\n",
    "\n"
   ]
  },
  {
   "cell_type": "code",
   "execution_count": 17,
   "metadata": {},
   "outputs": [
    {
     "name": "stdout",
     "output_type": "stream",
     "text": [
      "23\n",
      "23\n",
      "15\n"
     ]
    }
   ],
   "source": [
    "#Valores absolutos  abs para convertir  el valor absoluto \n",
    "#redonde es round es para redondear el numero que queda en decimal \n",
    "\n",
    "a = 39 - 16\n",
    "b = 16 - 39\n",
    "print(abs(a))\n",
    "print(abs(b))\n",
    "print(round(14.6))"
   ]
  },
  {
   "cell_type": "code",
   "execution_count": 11,
   "metadata": {},
   "outputs": [
    {
     "name": "stdout",
     "output_type": "stream",
     "text": [
      "numero entro es: 1232  y  numero decimal es: 1232.23\n"
     ]
    }
   ],
   "source": [
    "#Convertir cadenas en números int = enteros float = decimales\n",
    "\n",
    "nume_int = int(1232)\n",
    "nume_float = float(1232.23)\n",
    "\n",
    "print(\"numero entro es: \" + str(nume_int), \" y \" + \" numero decimal es: \"  + str(nume_float))\n"
   ]
  },
  {
   "cell_type": "code",
   "execution_count": 7,
   "metadata": {},
   "outputs": [
    {
     "name": "stdout",
     "output_type": "stream",
     "text": [
      "1084\n",
      "1084\n"
     ]
    }
   ],
   "source": [
    "#operadores con parentecis  da lo mismo dependiendo del parentecis \n",
    "resul1 = 1032 + 26 * 2\n",
    "result2 = 1032 + (26 * 2)\n",
    "\n",
    "print(resul1)\n",
    "print(result2)"
   ]
  },
  {
   "cell_type": "code",
   "execution_count": 6,
   "metadata": {},
   "outputs": [
    {
     "name": "stdout",
     "output_type": "stream",
     "text": [
      "17\n",
      "22\n"
     ]
    }
   ],
   "source": [
    "#operador modulo \n",
    "secons = 1042\n",
    "minutes = secons // 60\n",
    "seconds = secons % 60\n",
    "print(minutes)\n",
    "print(seconds)"
   ]
  },
  {
   "cell_type": "code",
   "execution_count": 5,
   "metadata": {},
   "outputs": [
    {
     "name": "stdout",
     "output_type": "stream",
     "text": [
      "17\n"
     ]
    }
   ],
   "source": [
    "#division de piso  se utiliza para sacar numeros entreros sin decimales\n",
    "secons = 1042 \n",
    "minutes = 1042 // 60\n",
    "print(minutes)"
   ]
  },
  {
   "cell_type": "code",
   "execution_count": 4,
   "metadata": {},
   "outputs": [
    {
     "name": "stdout",
     "output_type": "stream",
     "text": [
      "0.00986277873070326\n"
     ]
    }
   ],
   "source": [
    "#division\n",
    "divi = 23 / 2332\n",
    "print(divi)"
   ]
  },
  {
   "cell_type": "code",
   "execution_count": 2,
   "metadata": {},
   "outputs": [
    {
     "name": "stdout",
     "output_type": "stream",
     "text": [
      "5336\n"
     ]
    }
   ],
   "source": [
    "#multiplicacion\n",
    "multi = 232 * 23\n",
    "print(multi)"
   ]
  },
  {
   "cell_type": "code",
   "execution_count": 3,
   "metadata": {},
   "outputs": [
    {
     "name": "stdout",
     "output_type": "stream",
     "text": [
      "15\n"
     ]
    }
   ],
   "source": [
    "#resta\n",
    "rest = 23 - 8\n",
    "print(rest)"
   ]
  },
  {
   "cell_type": "code",
   "execution_count": 1,
   "metadata": {},
   "outputs": [
    {
     "name": "stdout",
     "output_type": "stream",
     "text": [
      "32\n"
     ]
    }
   ],
   "source": [
    "#suma +\n",
    "answer = 20 + 12\n",
    "print(answer) "
   ]
  }
 ],
 "metadata": {
  "interpreter": {
   "hash": "369f2c481f4da34e4445cda3fffd2e751bd1c4d706f27375911949ba6bb62e1c"
  },
  "kernelspec": {
   "display_name": "Python 3.10.4 64-bit",
   "language": "python",
   "name": "python3"
  },
  "language_info": {
   "codemirror_mode": {
    "name": "ipython",
    "version": 3
   },
   "file_extension": ".py",
   "mimetype": "text/x-python",
   "name": "python",
   "nbconvert_exporter": "python",
   "pygments_lexer": "ipython3",
   "version": "3.10.4"
  },
  "orig_nbformat": 4
 },
 "nbformat": 4,
 "nbformat_minor": 2
}
