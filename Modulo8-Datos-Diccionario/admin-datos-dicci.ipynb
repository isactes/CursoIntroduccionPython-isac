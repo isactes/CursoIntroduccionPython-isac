{
 "cells": [
  {
   "cell_type": "code",
   "execution_count": 8,
   "metadata": {},
   "outputs": [
    {
     "name": "stdout",
     "output_type": "stream",
     "text": [
      "octuber: 3.5cm\n",
      "novembere: 4.2cm\n",
      "december: 2.1cm\n",
      "There was 10.8cm in the last quarter\n"
     ]
    }
   ],
   "source": [
    "#Programación dinámica con diccionarios\n",
    "\n",
    "rainfall = {\n",
    "    'octuber': 3.5,\n",
    "    'novembere': 4.2,\n",
    "    'december': 2.1\n",
    "}\n",
    "\n",
    "for key in rainfall.keys():\n",
    "   print(f'{key}: {rainfall[key]}cm')\n",
    "\n",
    "#Determinando la existencia de una clave en un diccionario\n",
    "#valor de december 2.1 \n",
    "# si december existe en rainfall\n",
    "if 'december' in rainfall:\n",
    "    #rainfall [en la posicion december] es igual a\n",
    "    #rainfall [en la posicion december] + 1 (2.1+1)\n",
    "    rainfall['december'] = rainfall['december'] + 1\n",
    "#si no\n",
    "else:\n",
    "    #rainfall[en la posicion december] es igual a 1\n",
    "    rainfall['december'] = 1\n",
    "#como december si existe el valor es ?\n",
    "\n",
    "#Total de precipitaciones 0\n",
    "total_rainfall = 0\n",
    "\n",
    "# Para cada valor en los valores de rainfall\n",
    "for value in rainfall.values():\n",
    "    \n",
    "    # El total de las precipitaciones será igual a ese mismo + el valor que se está iterando\n",
    "\n",
    "    total_rainfall = total_rainfall + value\n",
    "\n",
    "# Muestra 'Hay un total de precipitaciones (el valor total) en centímetros en el último cuarto (haciendo referencia al cuarto del año)\n",
    "\n",
    "print(f'There was {total_rainfall}cm in the last quarter')\n",
    "\n",
    "# Salida:\n",
    "# There was 10.8cm in the last quarter\n"
   ]
  },
  {
   "cell_type": "code",
   "execution_count": 2,
   "metadata": {},
   "outputs": [
    {
     "ename": "SyntaxError",
     "evalue": "unterminated string literal (detected at line 55) (507507994.py, line 55)",
     "output_type": "error",
     "traceback": [
      "\u001b[1;36m  Input \u001b[1;32mIn [2]\u001b[1;36m\u001b[0m\n\u001b[1;33m    print(f'{plante['name']} polar diameter: {plante['diameter (km)']['polar']})\u001b[0m\n\u001b[1;37m                                                                            ^\u001b[0m\n\u001b[1;31mSyntaxError\u001b[0m\u001b[1;31m:\u001b[0m unterminated string literal (detected at line 55)\n"
     ]
    }
   ],
   "source": [
    "#Introducción a los diccionarios de Python\n",
    "#earth_name = 'Earth'\n",
    "#earth_moons = 1\n",
    "\n",
    "#jupiter_name = 'jupiter'\n",
    "#jupiter_moons =  79\n",
    "\n",
    "#Creación de un diccionario\n",
    "plante = {\n",
    "    'name': 'Earth',\n",
    "    'moons': 1\n",
    "}\n",
    "#Lectura de los valores de un diccionario\n",
    "print(plante.get('name'))\n",
    "\n",
    "#Modificación de valores de un diccionario\n",
    "plante.update({'name': 'Makemake'})\n",
    "\n",
    "#usando update\n",
    "plante.update({\n",
    "    'name': 'Jupiter',\n",
    "    'moons': 79\n",
    "})\n",
    "\n",
    "#USando corchetes\n",
    "plante['name'] = 'Jupiter'\n",
    "plante['moons'] = 98\n",
    "\n",
    "\n",
    "#Adición y eliminación de claves\n",
    "plante['orbital period'] = 4333\n",
    "#El diccionario ya tines los siguiente valores{\n",
    "# name: 'jupiter'\n",
    "# moons: 79\n",
    "# orbital period: 4333}\n",
    "\n",
    "#Para quitar una clave, usa pop. pop devuelve el valor y quita la clave del diccionario\n",
    "plante.pop('orbital period')\n",
    "\n",
    "\n",
    "#Añadimos los datos \n",
    "plante['diameter (km)'] = {\n",
    "    'polar': 133709,\n",
    "    'equatorial': 142984\n",
    "}\n",
    "\n",
    "#El diccionario planet ahora tiene: {\n",
    "# name: 'Jupiter\n",
    "# moons: 79\n",
    "# diameter (km):{\n",
    "#   polsr: 133709\n",
    "#   equatorial: 142984}}\n",
    "\n",
    "#Para recuperar valores en un diccionario anidado\n",
    "print(f'{planet['name']} polar diameter: {planet['diameter (km)']['polar']}')\n"
   ]
  }
 ],
 "metadata": {
  "interpreter": {
   "hash": "369f2c481f4da34e4445cda3fffd2e751bd1c4d706f27375911949ba6bb62e1c"
  },
  "kernelspec": {
   "display_name": "Python 3.10.4 64-bit",
   "language": "python",
   "name": "python3"
  },
  "language_info": {
   "codemirror_mode": {
    "name": "ipython",
    "version": 3
   },
   "file_extension": ".py",
   "mimetype": "text/x-python",
   "name": "python",
   "nbconvert_exporter": "python",
   "pygments_lexer": "ipython3",
   "version": "3.10.4"
  },
  "orig_nbformat": 4
 },
 "nbformat": 4,
 "nbformat_minor": 2
}
