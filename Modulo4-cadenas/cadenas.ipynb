{
 "cells": [
  {
   "cell_type": "code",
   "execution_count": 28,
   "metadata": {},
   "outputs": [
    {
     "name": "stdout",
     "output_type": "stream",
     "text": [
      "on the mooon, you would weigh 1/6 of you weigh on Earth\n"
     ]
    }
   ],
   "source": [
    "#format()\n",
    "mass_porce = '1/6'\n",
    "print('on the mooon, you would weigh {} of you weigh on Earth'.format(mass_porce))\n"
   ]
  },
  {
   "cell_type": "code",
   "execution_count": 27,
   "metadata": {},
   "outputs": [
    {
     "name": "stdout",
     "output_type": "stream",
     "text": [
      "Both sides of the Moon get the same amount of sunlight,\n",
      "    but only one side is seen from Earth because\n",
      "    the Moon rotates around its own axis when it orbits Earth.\n"
     ]
    }
   ],
   "source": [
    "print(\"\"\"Both sides of the %s get the same amount of sunlight,\n",
    "    but only one side is seen from %s because\n",
    "    the %s rotates around its own axis when it orbits %s.\"\"\" % ('Moon', 'Earth', 'Moon', 'Earth'))"
   ]
  },
  {
   "cell_type": "code",
   "execution_count": 26,
   "metadata": {},
   "outputs": [
    {
     "ename": "ValueError",
     "evalue": "unsupported format character 'y' (0x79) at index 37",
     "output_type": "error",
     "traceback": [
      "\u001b[1;31m---------------------------------------------------------------------------\u001b[0m",
      "\u001b[1;31mValueError\u001b[0m                                Traceback (most recent call last)",
      "\u001b[1;32mc:\\Users\\Isac\\Documents\\Proyecots-code\\Azure\\CursoIntroduccionPython-isac\\Modulo4-cadenas\\cadenas.ipynb Cell 1'\u001b[0m in \u001b[0;36m<cell line: 3>\u001b[1;34m()\u001b[0m\n\u001b[0;32m      <a href='vscode-notebook-cell:/c%3A/Users/Isac/Documents/Proyecots-code/Azure/CursoIntroduccionPython-isac/Modulo4-cadenas/cadenas.ipynb#ch0000012?line=0'>1</a>\u001b[0m \u001b[39m#Formato de cadenas en Python %%!\u001b[39;00m\n\u001b[0;32m      <a href='vscode-notebook-cell:/c%3A/Users/Isac/Documents/Proyecots-code/Azure/CursoIntroduccionPython-isac/Modulo4-cadenas/cadenas.ipynb#ch0000012?line=1'>2</a>\u001b[0m masa_porce \u001b[39m=\u001b[39m \u001b[39m'\u001b[39m\u001b[39m1/6\u001b[39m\u001b[39m'\u001b[39m\n\u001b[1;32m----> <a href='vscode-notebook-cell:/c%3A/Users/Isac/Documents/Proyecots-code/Azure/CursoIntroduccionPython-isac/Modulo4-cadenas/cadenas.ipynb#ch0000012?line=2'>3</a>\u001b[0m \u001b[39mprint\u001b[39m(\u001b[39m'\u001b[39;49m\u001b[39mon the moon, you would weihg about \u001b[39;49m\u001b[39m%\u001b[39;49m\u001b[39m your weihg on earth\u001b[39;49m\u001b[39m'\u001b[39;49m \u001b[39m%\u001b[39;49m masa_porce)\n",
      "\u001b[1;31mValueError\u001b[0m: unsupported format character 'y' (0x79) at index 37"
     ]
    }
   ],
   "source": [
    "#Formato de cadenas en Python %%!\n",
    "masa_porce = '1/6'\n",
    "print('on the moon, you would weihg about % your weihg on earth' % masa_porce)"
   ]
  },
  {
   "cell_type": "code",
   "execution_count": 22,
   "metadata": {},
   "outputs": [
    {
     "data": {
      "text/plain": [
       "'The Moon is drifting away from the Earth.\\nOn average, the Moon is moving about 4cm every year'"
      ]
     },
     "execution_count": 22,
     "metadata": {},
     "output_type": "execute_result"
    }
   ],
   "source": [
    "#join \n",
    "moon_facts = ['The Moon is drifting away from the Earth.', 'On average, the Moon is moving about 4cm every year']\n",
    "'\\n'.join(moon_facts)"
   ]
  },
  {
   "cell_type": "code",
   "execution_count": 21,
   "metadata": {},
   "outputs": [
    {
     "data": {
      "text/plain": [
       "True"
      ]
     },
     "execution_count": 21,
     "metadata": {},
     "output_type": "execute_result"
    }
   ],
   "source": [
    "#.lower()\n",
    "text = 'temp on the mooon can vary wildy'\n",
    "'temp' in text.lower()"
   ]
  },
  {
   "cell_type": "code",
   "execution_count": 20,
   "metadata": {},
   "outputs": [
    {
     "data": {
      "text/plain": [
       "'Saturn has a daytime temperature of -170 degrees C, while Mars has -28 C.'"
      ]
     },
     "execution_count": 20,
     "metadata": {},
     "output_type": "execute_result"
    }
   ],
   "source": [
    "#trasnformar texto .lower(), .replace()\n",
    "'Saturn has a daytime temperature of -170 degrees Celsius, while Mars has -28 Celsius.'.replace('Celsius', 'C')\n"
   ]
  },
  {
   "cell_type": "code",
   "execution_count": 19,
   "metadata": {},
   "outputs": [
    {
     "name": "stdout",
     "output_type": "stream",
     "text": [
      "This temp is in C\n"
     ]
    }
   ],
   "source": [
    "#starswith and endswith\n",
    "if \"30 c\".endswith(\"c\"):\n",
    "    print(\"This temp is in C\")"
   ]
  },
  {
   "cell_type": "code",
   "execution_count": 18,
   "metadata": {},
   "outputs": [
    {
     "name": "stdout",
     "output_type": "stream",
     "text": [
      "30\n"
     ]
    }
   ],
   "source": [
    "#.isnumeric()\n",
    "mars_temp = 'temp highest temp on mars is about 30 c'\n",
    "for item in mars_temp.split():\n",
    "    if item.isnumeric():\n",
    "        print(item)"
   ]
  },
  {
   "cell_type": "code",
   "execution_count": 17,
   "metadata": {},
   "outputs": [
    {
     "data": {
      "text/plain": [
       "' -60c'"
      ]
     },
     "execution_count": 17,
     "metadata": {},
     "output_type": "execute_result"
    }
   ],
   "source": [
    "#Comprobar el contenido\n",
    "temepratures = ' MArs avarange temperature: -60c'\n",
    "parts = temepratures.split(':')\n",
    "parts[-1]"
   ]
  },
  {
   "cell_type": "code",
   "execution_count": 15,
   "metadata": {},
   "outputs": [
    {
     "data": {
      "text/plain": [
       "'THE MOON AND THE EARTH'"
      ]
     },
     "execution_count": 15,
     "metadata": {},
     "output_type": "execute_result"
    }
   ],
   "source": [
    "#.lower(), .upper()\n",
    "\"the mooon and the erat\".lower()\n",
    "\"The moon and the earth\".upper()"
   ]
  },
  {
   "cell_type": "code",
   "execution_count": 13,
   "metadata": {},
   "outputs": [
    {
     "data": {
      "text/plain": [
       "0"
      ]
     },
     "execution_count": 13,
     "metadata": {},
     "output_type": "execute_result"
    }
   ],
   "source": [
    "#.find(), .count()\n",
    "temepratures = \"\"\"Saturn has a daytime temperature of -170 degres celsius,\n",
    "...While Mars has -28 Celsius\"\"\"\n",
    "temepratures.find('Moon')\n",
    "temepratures.find('Mars')\n",
    "temepratures.count('Moon')\n",
    "temepratures.count('Moon')"
   ]
  },
  {
   "cell_type": "code",
   "execution_count": 8,
   "metadata": {},
   "outputs": [
    {
     "data": {
      "text/plain": [
       "['DAylight: 260 f', '...Nighttime: - 280 f']"
      ]
     },
     "execution_count": 8,
     "metadata": {},
     "output_type": "execute_result"
    }
   ],
   "source": [
    "#split()\n",
    "temepratures = \"\"\"DAylight: 260 f\n",
    "...Nighttime: - 280 f\"\"\"\n",
    "\n",
    "temepratures.split('\\n')"
   ]
  },
  {
   "cell_type": "code",
   "execution_count": 6,
   "metadata": {},
   "outputs": [
    {
     "data": {
      "text/plain": [
       "'Temperaturas And Fasts About The Moon'"
      ]
     },
     "execution_count": 6,
     "metadata": {},
     "output_type": "execute_result"
    }
   ],
   "source": [
    "#title\n",
    "heading = 'temperaturas and fasts about the moon'\n",
    "heading.title()"
   ]
  },
  {
   "cell_type": "code",
   "execution_count": 5,
   "metadata": {},
   "outputs": [
    {
     "name": "stdout",
     "output_type": "stream",
     "text": [
      "FActs about the moon:\n",
      "...there is no atmosphere.\n",
      "...there is no sound\n"
     ]
    }
   ],
   "source": [
    "multiline = \"\"\"FActs about the moon:\n",
    "...there is no atmosphere.\n",
    "...there is no sound\"\"\"\n",
    "\n",
    "print(multiline)"
   ]
  },
  {
   "cell_type": "code",
   "execution_count": 3,
   "metadata": {},
   "outputs": [
    {
     "name": "stdout",
     "output_type": "stream",
     "text": [
      "the mooon has no atmosphere, no sound can be heard on the moon\n"
     ]
    }
   ],
   "source": [
    "fact = 'the mooon has no atmosphere,'\n",
    "two_fast = fact + ' no sound can be heard on the moon'\n",
    "\n",
    "print(two_fast)"
   ]
  }
 ],
 "metadata": {
  "interpreter": {
   "hash": "369f2c481f4da34e4445cda3fffd2e751bd1c4d706f27375911949ba6bb62e1c"
  },
  "kernelspec": {
   "display_name": "Python 3.10.4 64-bit",
   "language": "python",
   "name": "python3"
  },
  "language_info": {
   "codemirror_mode": {
    "name": "ipython",
    "version": 3
   },
   "file_extension": ".py",
   "mimetype": "text/x-python",
   "name": "python",
   "nbconvert_exporter": "python",
   "pygments_lexer": "ipython3",
   "version": "3.10.4"
  },
  "orig_nbformat": 4
 },
 "nbformat": 4,
 "nbformat_minor": 2
}
