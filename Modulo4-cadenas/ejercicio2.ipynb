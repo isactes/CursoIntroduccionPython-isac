{
 "cells": [
  {
   "cell_type": "code",
   "execution_count": null,
   "metadata": {},
   "outputs": [],
   "source": [
    "# datos con trabajar\n",
    "name = \"Moon\"\n",
    "gravity = 0.00162 # kms\n",
    "planet = \"Earth\""
   ]
  }
 ],
 "metadata": {
  "language_info": {
   "name": "python"
  },
  "orig_nbformat": 4
 },
 "nbformat": 4,
 "nbformat_minor": 2
}
