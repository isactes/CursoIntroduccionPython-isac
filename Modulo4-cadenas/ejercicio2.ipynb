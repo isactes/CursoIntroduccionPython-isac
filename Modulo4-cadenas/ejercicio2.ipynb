{
 "cells": [
  {
   "cell_type": "code",
   "execution_count": 7,
   "metadata": {},
   "outputs": [
    {
     "name": "stdout",
     "output_type": "stream",
     "text": [
      "The moon is near to Earth\n",
      "Earth\n",
      "The moon is near to Earth\n",
      "Earth\n",
      "\n",
      "graveda del planeta: Gamnimedes\n",
      "planeta: Marte\n",
      "graveda Gamnimedes: 0.00143\n",
      "\n"
     ]
    }
   ],
   "source": [
    "# datos con trabajar\n",
    "name = \"Moon\"\n",
    "gravity = 0.00162 # kms\n",
    "planet = \"Earth\"\n",
    "\n",
    "#crear titulo\n",
    "title = f'The moon is near to {planet}'\n",
    "#crear plantilla\n",
    "plantilla = f\"\"\"{'-'*80}\n",
    "name of planet:{planet}\n",
    "gravity {name}: {gravity * 1000}\"\"\"\n",
    "\n",
    "#union de plantillas \n",
    "union = f\"\"\"{title}\n",
    "{planet}\"\"\"\n",
    "print(union)\n",
    "\n",
    "\n",
    "# nuevos datos\n",
    "planet = 'Marte'\n",
    "gravity = 0.00143\n",
    "name = 'Gamnimedes'\n",
    "\n",
    "print(union)\n",
    "\n",
    "#crrear otro templade\n",
    "union1 = f\"\"\"\n",
    "graveda del planeta: {name}\n",
    "planeta: {planet}\n",
    "graveda {name}: {gravity}\n",
    "\"\"\"\n",
    "#Pista: print(nueva_plantilla.format(variables))\n",
    "\n",
    "print(union1.format(name=name, planet=planet, gravity=gravity*1000))"
   ]
  }
 ],
 "metadata": {
  "interpreter": {
   "hash": "369f2c481f4da34e4445cda3fffd2e751bd1c4d706f27375911949ba6bb62e1c"
  },
  "kernelspec": {
   "display_name": "Python 3.10.4 64-bit",
   "language": "python",
   "name": "python3"
  },
  "language_info": {
   "codemirror_mode": {
    "name": "ipython",
    "version": 3
   },
   "file_extension": ".py",
   "mimetype": "text/x-python",
   "name": "python",
   "nbconvert_exporter": "python",
   "pygments_lexer": "ipython3",
   "version": "3.10.4"
  },
  "orig_nbformat": 4
 },
 "nbformat": 4,
 "nbformat_minor": 2
}
