{
 "cells": [
  {
   "cell_type": "code",
   "execution_count": 16,
   "metadata": {},
   "outputs": [
    {
     "name": "stdout",
     "output_type": "stream",
     "text": [
      "On Earth, a double-decker bus weighs 12650 kg\n",
      "On Mercury, a double-decken bus weighs 4781.7 kg\n",
      "On Earth, a double-decker bus weighs 12650 kg\n",
      "The lightest a bus would be in the solar system is 4781.7 kg\n",
      "The heaviest a bus would be in the solar system is 29854.0 kg\n",
      "['Mercury', 'Venus']\n",
      "['Mars', 'Jupiter', 'Saturn', 'Uranus', 'Neptune']\n",
      "['Mars', 'Jupiter', 'Saturn', 'Uranus', 'Neptune']\n",
      "The regular satellite moons of Jupiter are ['Metis', 'Adrastea', 'Amalthea', 'Thebe', 'Io', 'Europa', 'Ganymede', 'Callisto']\n",
      "The regular satellite moons of Jupiter are ['Adrastea', 'Amalthea', 'Callisto', 'Europa', 'Ganymede', 'Io', 'Metis', 'Thebe']\n",
      "The regular satellite moons of Jupiter are ['Thebe', 'Metis', 'Io', 'Ganymede', 'Europa', 'Callisto', 'Amalthea', 'Adrastea']\n"
     ]
    }
   ],
   "source": [
    "#Trabajar con números en listas\n",
    "\n",
    "#Almacenar números en listas\n",
    "gravity_on_earth = 1.0\n",
    "gravity_on_the_moon = 0.166\n",
    "\n",
    "gravity_on_planets = [0.378, 0.907, 1, 0.379, 2.36, 0.916, 0.889, 1.12]\n",
    "\n",
    "bus_weight = 12650 #In kilograms, on Earth\n",
    "print('On Earth, a double-decker bus weighs', bus_weight, 'kg')\n",
    "print('On Mercury, a double-decken bus weighs', bus_weight * gravity_on_planets[0], 'kg')\n",
    "\n",
    "#min() y max () con listas\n",
    "bus_weight = 12650 # in kilograms, on Earth\n",
    "\n",
    "print('On Earth, a double-decker bus weighs', bus_weight, 'kg')\n",
    "print('The lightest a bus would be in the solar system is', bus_weight * min(gravity_on_planets), 'kg')\n",
    "print('The heaviest a bus would be in the solar system is', bus_weight * max(gravity_on_planets), 'kg')\n",
    "\n",
    "#Manipular datos de lista\n",
    "planets = ['Mercury', 'Venus', 'Earth', 'Mars', 'Jupiter', 'Saturn', 'Uranus', 'Neptune']\n",
    "planets_before_earth = planets[0:2]\n",
    "print(planets_before_earth)\n",
    "\n",
    "planets_after_earth = planets[3:8]\n",
    "print(planets_after_earth) \n",
    "\n",
    "planets_after_earth = planets[3:]\n",
    "print(planets_after_earth)\n",
    "\n",
    "#Uniendo listas\n",
    "amalthea_group = ['Metis', 'Adrastea', 'Amalthea', 'Thebe']\n",
    "galilean_moons = ['Io', 'Europa', 'Ganymede', 'Callisto']\n",
    "\n",
    "regular_satellite_moons = amalthea_group + galilean_moons\n",
    "print('The regular satellite moons of Jupiter are', regular_satellite_moons)\n",
    "\n",
    "#Ordenar listas\n",
    "regular_satellite_moons.sort()\n",
    "print(\"The regular satellite moons of Jupiter are\", regular_satellite_moons)\n",
    "\n",
    "regular_satellite_moons.sort(reverse=True)\n",
    "print(\"The regular satellite moons of Jupiter are\", regular_satellite_moons)\n"
   ]
  },
  {
   "cell_type": "code",
   "execution_count": 9,
   "metadata": {},
   "outputs": [
    {
     "name": "stdout",
     "output_type": "stream",
     "text": [
      "The first planet is:  Mercury\n",
      "The second planet is:  Venus\n",
      "Teh third planet is Earth\n",
      "Mars is also known as: Red planet\n",
      "There are:  8 Planets in the solar system\n",
      "There are actually 9 planets in the solar system\n",
      "No, there are definitely 8 planest in the solar system\n",
      "The first planet is Mercury\n",
      "There penultimate planet is: Neptune\n",
      "The penultimate planet is:  Uranus\n",
      "Jupiter is the: 5 planets from the sun\n"
     ]
    }
   ],
   "source": [
    "#Crear una lista\n",
    "planets = ['Mercury', 'Venus', 'Earth', 'Mars', 'Jupiter', 'Saturn', ' Uranus', 'Neptune']\n",
    "\n",
    "print('The first planet is: ', planets[0])\n",
    "print('The second planet is: ', planets[1])\n",
    "print('Teh third planet is', planets[2])\n",
    "\n",
    "planets[3] = 'Red planet'\n",
    "print('Mars is also known as:', planets[3])\n",
    "\n",
    "#Determinar la longitud de una lista\n",
    "numbers_of_planets = len(planets)\n",
    "print('There are: ', numbers_of_planets, 'Planets in the solar system')\n",
    "\n",
    "#Agregar valores a listas\n",
    "planets.append('Pluto')\n",
    "numbers_of_planets = len(planets)\n",
    "print('There are actually', numbers_of_planets, 'planets in the solar system')\n",
    "\n",
    "#Eliminar valores de una lista\n",
    "planets.pop() # Goobye, pluto\n",
    "numbers_of_planets = len(planets)\n",
    "print('No, there are definitely', numbers_of_planets, 'planest in the solar system')\n",
    "\n",
    "#Índices negativos\n",
    "print(\"The first planet is\", planets[0])\n",
    "print('There penultimate planet is:', planets[-1])\n",
    "print('The penultimate planet is:', planets[-2])\n",
    "\n",
    "#Buscar un valor en una lista\n",
    "jupiter_index = planets.index('Jupiter')\n",
    "print('Jupiter is the:', jupiter_index + 1, 'planets from the sun')\n"
   ]
  }
 ],
 "metadata": {
  "interpreter": {
   "hash": "369f2c481f4da34e4445cda3fffd2e751bd1c4d706f27375911949ba6bb62e1c"
  },
  "kernelspec": {
   "display_name": "Python 3.10.4 64-bit",
   "language": "python",
   "name": "python3"
  },
  "language_info": {
   "codemirror_mode": {
    "name": "ipython",
    "version": 3
   },
   "file_extension": ".py",
   "mimetype": "text/x-python",
   "name": "python",
   "nbconvert_exporter": "python",
   "pygments_lexer": "ipython3",
   "version": "3.10.4"
  },
  "orig_nbformat": 4
 },
 "nbformat": 4,
 "nbformat_minor": 2
}
