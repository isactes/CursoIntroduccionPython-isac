{
 "cells": [
  {
   "cell_type": "code",
   "execution_count": 4,
   "metadata": {},
   "outputs": [
    {
     "name": "stdout",
     "output_type": "stream",
     "text": [
      "Fuel report:\n",
      "    Total: 23.0%,\n",
      "    tank1: 12%,\n",
      "    tank2:23%,\n",
      "    tank3:34%\n",
      "    \n"
     ]
    }
   ],
   "source": [
    "#Ejercicio 1: Trabajar con argumentos en funciones\n",
    "\n",
    "def tanks(tanks1, tanks2, tanks3):\n",
    "    fuel =(tanks1 + tanks2 + tanks3) / 3\n",
    "    return f\"\"\"Fuel report:\n",
    "    Total: {fuel}%,\n",
    "    tank1: {tanks1}%,\n",
    "    tank2:{tanks2}%,\n",
    "    tank3:{tanks3}%\n",
    "    \"\"\"\n",
    "#llamar la funcio y imprimir\n",
    "print(tanks(12, 23, 34))\n",
    "\n",
    "#asdfghfdsa\n",
    "def prom(values):\n",
    "    total =sum(values)\n",
    "    num_items = len(values)\n",
    "    return total / num_items\n",
    "prom([12, 23, 34])\n",
    "\n",
    "#actualiza la funcion \n",
    "def total_tanks(tanks1, tanks2, tanks3):\n",
    "    return f\"\"\"Fuel report:\n",
    "    Tota_prom: {prom([tanks1, tanks2, tanks3])}%,\n",
    "    tak1: {tanks1}%,\n",
    "    tak2: {tanks2}%,\n",
    "    tak3: {tanks3}\n",
    "    \"\"\"\n",
    "    print(total_tanks(19, 98, 87))"
   ]
  },
  {
   "cell_type": "code",
   "execution_count": 2,
   "metadata": {},
   "outputs": [
    {
     "data": {
      "text/plain": [
       "23.0"
      ]
     },
     "execution_count": 2,
     "metadata": {},
     "output_type": "execute_result"
    }
   ],
   "source": [
    "#funcion promedio\n",
    "\n",
    "def prom(values):\n",
    "    total =sum(values)\n",
    "    num_items = len(values)\n",
    "    return total / num_items\n",
    "prom([12, 23, 34])"
   ]
  }
 ],
 "metadata": {
  "kernelspec": {
   "display_name": "Python 3.10.4 64-bit",
   "language": "python",
   "name": "python3"
  },
  "language_info": {
   "codemirror_mode": {
    "name": "ipython",
    "version": 3
   },
   "file_extension": ".py",
   "mimetype": "text/x-python",
   "name": "python",
   "nbconvert_exporter": "python",
   "pygments_lexer": "ipython3",
   "version": "3.10.4"
  },
  "orig_nbformat": 4,
  "vscode": {
   "interpreter": {
    "hash": "369f2c481f4da34e4445cda3fffd2e751bd1c4d706f27375911949ba6bb62e1c"
   }
  }
 },
 "nbformat": 4,
 "nbformat_minor": 2
}
