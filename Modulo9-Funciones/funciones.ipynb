{
 "cells": [
  {
   "cell_type": "code",
   "execution_count": 1,
   "metadata": {},
   "outputs": [],
   "source": [
    "#Funciones sin argumentos\n",
    "\n",
    "#funcion se declara def nombre():\n",
    "\n",
    "def fun_cion():\n",
    "    print('playload, propellant, structure')"
   ]
  },
  {
   "cell_type": "code",
   "execution_count": 2,
   "metadata": {},
   "outputs": [],
   "source": [
    "#Uso de argumentos en una función de Python\n",
    "\n",
    "def distancia_earth():\n",
    "    if distination == 'Moon':\n",
    "        return '23456'\n",
    "    else:\n",
    "        return 'Unable to compute to tha destination'\n"
   ]
  },
  {
   "cell_type": "code",
   "execution_count": 9,
   "metadata": {},
   "outputs": [
    {
     "data": {
      "text/plain": [
       "1303"
      ]
     },
     "execution_count": 9,
     "metadata": {},
     "output_type": "execute_result"
    }
   ],
   "source": [
    "#Varios argumentos necesarios\n",
    "\n",
    "\n",
    "def days_comlete(distance, speed):\n",
    "    hours = distance/speed\n",
    "    return hours/24\n",
    "days_comlete(1234567898, 75)\n",
    "\n",
    "#Funciones como argumentos\n",
    "total_days = days_comlete(2345678, 75)\n",
    "round(days_comlete(2345678, 75))\n",
    "\n"
   ]
  },
  {
   "cell_type": "code",
   "execution_count": 12,
   "metadata": {},
   "outputs": [
    {
     "data": {
      "text/plain": [
       "'Arrival: Saturday 13:40'"
      ]
     },
     "execution_count": 12,
     "metadata": {},
     "output_type": "execute_result"
    }
   ],
   "source": [
    "#Uso de argumentos de palabra clave en Python\n",
    "\n",
    "from datetime import timedelta, datetime\n",
    "\n",
    "def arrival_time(hours=51):\n",
    "    now =  datetime.now()\n",
    "    arrival = now + timedelta(hours=hours)\n",
    "    return arrival.strftime('Arrival: %A %H:%M')\n",
    "arrival_time(hours=0)\n"
   ]
  },
  {
   "cell_type": "code",
   "execution_count": 17,
   "metadata": {},
   "outputs": [
    {
     "data": {
      "text/plain": [
       "'Orbita Arrival: Saturday 13:53'"
      ]
     },
     "execution_count": 17,
     "metadata": {},
     "output_type": "execute_result"
    }
   ],
   "source": [
    "#Combinación de argumentos y argumentos de palabra clave\n",
    "\n",
    "from datetime import timedelta, datetime\n",
    "\n",
    "def arrival_time(destination, hours=51):\n",
    "    now = datetime.now()\n",
    "    arrival = now + timedelta(hours=hours)\n",
    "    return arrival.strftime(f'{destination} Arrival: %A %H:%M')\n",
    "arrival_time('Orbita', hours=0.13)"
   ]
  },
  {
   "cell_type": "code",
   "execution_count": 19,
   "metadata": {},
   "outputs": [
    {
     "name": "stdout",
     "output_type": "stream",
     "text": [
      "()\n",
      "('one', 'two')\n",
      "(None,)\n"
     ]
    },
    {
     "data": {
      "text/plain": [
       "(None,)"
      ]
     },
     "execution_count": 19,
     "metadata": {},
     "output_type": "execute_result"
    }
   ],
   "source": [
    "#Uso de argumentos de variable en Python\n",
    "#Argumentos de variable\n",
    "\n",
    "def variable_lentgh(*args): #*args acepta cualquier numero o variable\n",
    "    print(args)\n",
    "\n",
    "variable_lentgh()\n",
    "()\n",
    "variable_lentgh('one', 'two')\n",
    "('one', 'two')\n",
    "variable_lentgh(None)\n",
    "(None,)"
   ]
  },
  {
   "cell_type": "code",
   "execution_count": 21,
   "metadata": {},
   "outputs": [],
   "source": [
    "#funciones \n",
    "\n",
    "def secuencia_tiempo(*args):\n",
    "    total_mins = sum(args)\n",
    "    if total_mins < 60:\n",
    "        return f'Total de tiempo de lanzamiento {total_mins} minutos'\n",
    "    else:\n",
    "        return f'Total de tiempo de lanzamiento {total_mins/60} horas'\n",
    "    secuencia_tiempo(4, 14, 18)\n",
    "    'Total de tiempo de lanzamiento es 36 minutes'\n",
    "    secuencia_tiempo(4, 14, 48)\n",
    "    'Totla de tiempo de lanzamiento es de 48 horas'"
   ]
  },
  {
   "cell_type": "code",
   "execution_count": null,
   "metadata": {},
   "outputs": [],
   "source": [
    "#Argumentos de palabra clave variable\n",
    "\n",
    "def variable(**kwargs):\n",
    "    print(kwargs)\n",
    "    variable(tanks=1, day='Wednesday', pilots=3)\n",
    "{'tanks': 1, 'day': 'Wednesday', 'pilots': 3}\n",
    "\n",
    "\n"
   ]
  },
  {
   "cell_type": "code",
   "execution_count": 23,
   "metadata": {},
   "outputs": [
    {
     "ename": "SyntaxError",
     "evalue": "invalid decimal literal (1931073396.py, line 6)",
     "output_type": "error",
     "traceback": [
      "\u001b[1;36m  Input \u001b[1;32mIn [23]\u001b[1;36m\u001b[0m\n\u001b[1;33m    3astronautsassigned for this mission:\u001b[0m\n\u001b[1;37m    ^\u001b[0m\n\u001b[1;31mSyntaxError\u001b[0m\u001b[1;31m:\u001b[0m invalid decimal literal\n"
     ]
    }
   ],
   "source": [
    "def crew_members(**kwargs):\n",
    "    print(f'{len(kwargs)} astronauts assigned for this mission:')\n",
    "    for title, name in kwargs.items():\n",
    "        print(f'{title}: {name}')\n",
    "    crew_members(captain='Neil Armstrong', pilot='Buzz Aldrin', command_pilot='Michael Collins')\n",
    "    3 astronauts assigned for this mission:\n",
    "    captain: Neil Armstrong\n",
    "    pilot: Buzz Aldrin\n",
    "    command_pilot: Michael Collins\n",
    "    crew_members(captain='Neil Armstrong', pilot='Buzz Aldrin', pilot='Michael Collins')\n",
    "    File '<stdin>', line 1\n",
    "    SyntaxError: keyword argument repeated: pilot"
   ]
  }
 ],
 "metadata": {
  "kernelspec": {
   "display_name": "Python 3.10.4 64-bit",
   "language": "python",
   "name": "python3"
  },
  "language_info": {
   "codemirror_mode": {
    "name": "ipython",
    "version": 3
   },
   "file_extension": ".py",
   "mimetype": "text/x-python",
   "name": "python",
   "nbconvert_exporter": "python",
   "pygments_lexer": "ipython3",
   "version": "3.10.4"
  },
  "orig_nbformat": 4,
  "vscode": {
   "interpreter": {
    "hash": "369f2c481f4da34e4445cda3fffd2e751bd1c4d706f27375911949ba6bb62e1c"
   }
  }
 },
 "nbformat": 4,
 "nbformat_minor": 2
}
